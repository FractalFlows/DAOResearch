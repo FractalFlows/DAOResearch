{
 "cells": [
  {
   "cell_type": "code",
   "execution_count": 1,
   "metadata": {
    "collapsed": false,
    "scrolled": true
   },
   "outputs": [],
   "source": [
    "import matplotlib.pylab as pl\n",
    "import numpy as np\n",
    "from scipy.optimize import fmin_cobyla\n",
    "import pandas as pd\n",
    "%matplotlib inline"
   ]
  },
  {
   "cell_type": "markdown",
   "metadata": {},
   "source": [
    "# Creating a scientific task"
   ]
  },
  {
   "cell_type": "code",
   "execution_count": 2,
   "metadata": {
    "collapsed": false
   },
   "outputs": [],
   "source": [
    "result1_task1 = {\n",
    "    'description': 'Attempt to reproduce the result 1 of this article',\n",
    "    'doi': '10.1051/itmconf/20140201004',\n",
    "    'reference': 'result 1, p. 4',\n",
    "    'type': 'scientific task',\n",
    "    'possible_outcomes': [\n",
    "        'the result is reproducible',\n",
    "        'the result is not reproducible'\n",
    "        ]\n",
    "}"
   ]
  },
  {
   "cell_type": "markdown",
   "metadata": {},
   "source": [
    "# The LS-LMSR model from Augur\n",
    "Heavily inspired from this blog post: [Augur’s Automated Market Maker: The LS-LMSR](http://www.augur.net/blog/augur-s-automated-market-maker-the-ls-lmsr), By Dr. Abe Othman.\n",
    "\n",
    "The cost function for the LMSR is given by:\n",
    "\n",
    "$$\n",
    "C(\\textbf{q}) = b \\log \\left(\\sum_{i=1}^n e^{\\frac{q_i}{b}} \\right)\n",
    "$$\n",
    "and the marginal prices on each event are given by the partial derivatives of the cost function:\n",
    "$$\n",
    "p_j(\\textbf{q}) = \\frac{e^{\\frac{q_j}{b}}}{\\sum_{i=1}^n e^{\\frac{q_i}{b}}}\n",
    "$$\n",
    "where $b$, which is defined as a constant in the original LMSR model of Hanson, is here defined as a variable of **q**\n",
    "$$\n",
    "b(\\textbf{q})=\\alpha \\sum_{i=1}^n q_i\n",
    "$$\n",
    "\n",
    "with $\\alpha$ defined as\n",
    "\n",
    "$$\n",
    "\\alpha = \\frac{0.1}{n \\log{n}}\n",
    "$$\n",
    "with $n$ being the number of dimensions of $\\textbf{q}$"
   ]
  },
  {
   "cell_type": "code",
   "execution_count": 29,
   "metadata": {
    "collapsed": false
   },
   "outputs": [],
   "source": [
    "class LS_LMSRMarket(object):\n",
    "    def __init__(self, task, vig=0.1, init=1.0, market='LS_LMSR', b=None):\n",
    "        \"\"\"\n",
    "        Parameters\n",
    "        ----------\n",
    "        task    dict\n",
    "                A dictionary describing the task for which the predictive market is created.\n",
    "                Keys:\n",
    "                -----\n",
    "                type:               str \n",
    "                                    (e.g. 'scientific task')\n",
    "                description:        str\n",
    "                                    description of the task to be performed\n",
    "                reference:          str\n",
    "                                    Internal reference (e.g. 'result 1, p. 4')\n",
    "                doi:                str\n",
    "                                    DOI of the related publication\n",
    "                possible_outcomes:  list\n",
    "                                    List of strings describing the possible outcomes of the task\n",
    "                                    \n",
    "        vig     float\n",
    "                parameter of the `alpha` variable used to calculate the `b` variable.\n",
    "                Corresponds to the market \"vig\" value - typically between 5 and 30 percent in real-world markets\n",
    "                \n",
    "        init    float\n",
    "                The initial subsidies of the market, spread equally in this algorithm on all the outcomes.\n",
    "        \n",
    "        market  srt, 'LS_LMSR' | 'LMSR'\n",
    "                The market type. If 'LMSR' is selected, then a b value should be given.\n",
    "        \"\"\"\n",
    "        self.market = market\n",
    "        if self.market == 'LSMR':\n",
    "            if b == None:\n",
    "                raise Exception('b value is needed for LSMR markets')\n",
    "            self._b = b\n",
    "\n",
    "        for k, v in task.items():\n",
    "            setattr(self, k, v)\n",
    "        self.init = init\n",
    "        self.n = len(self.possible_outcomes)\n",
    "        self._x = [np.ones([self.n])*init/self.n]\n",
    "        self._book = []\n",
    "        self.market_value = init\n",
    "        self._history = []\n",
    "        self.alpha = vig*self.n/np.log(self.n)\n",
    "        \n",
    "    @property\n",
    "    def b(self):\n",
    "        if self.market == 'LMSR':\n",
    "            return self._b\n",
    "        elif self.market == 'LS_LMSR':\n",
    "            return self._b_func(self.x)\n",
    "        else:\n",
    "            raise Exception('market must be set to either \"LMSR\" or \"LS_LMSR\"')\n",
    "    \n",
    "    def _b_func(self, x):\n",
    "        \"\"\"Calculate the `b` equation: b=\\alpha \\Sigma x\"\"\"\n",
    "        return self.alpha * x.sum()\n",
    "        \n",
    "    @property\n",
    "    def book(self):\n",
    "        return pd.DataFrame(self._book)\n",
    "    \n",
    "    @property\n",
    "    def x(self):\n",
    "        return self._x[-1].copy()\n",
    "    \n",
    "    def cost(self, x):\n",
    "        return self.b*np.log(np.exp(x/self.b).sum())\n",
    "    \n",
    "    def _new_x(self, shares, outcome):\n",
    "        new_x = self.x\n",
    "        new_x[outcome] += shares        \n",
    "        return new_x\n",
    "            \n",
    "    def price(self, shares, outcome):\n",
    "        return self._price(self._new_x(shares, outcome))\n",
    "        \n",
    "    def _price(self, x):\n",
    "        return self.cost(x)-self.cost(self.x)\n",
    "    \n",
    "    def register_x(self, x):\n",
    "        self._x.append(x)\n",
    "        \n",
    "    def calculate_shares(self, paid, outcome):\n",
    "        obj_func = lambda s: np.abs(self.price(s, outcome) - paid)\n",
    "        return fmin_cobyla(obj_func, paid/self.p[outcome], [])\n",
    "    \n",
    "    def buy_shares(self, name, paid, outcome):\n",
    "        shares = self.calculate_shares(paid, outcome)\n",
    "        self.register_x(self._new_x(shares, outcome))\n",
    "        self._book.append({'name':name, \n",
    "                           'shares':shares, \n",
    "                           'outcome':outcome, \n",
    "                           'paid':paid})\n",
    "        self._history.append(self.p)\n",
    "        self.market_value += paid\n",
    "        print(\"%s paid %2.2f EUR, for %2.2f shares of outcome %d, which will give him %2.2f EUR if he wins\"%(\n",
    "                name, paid, shares, outcome, shares/self.x[outcome]*self.market_value))\n",
    "        return shares\n",
    "    \n",
    "    def sell_shares(self, name, shares, outcome):\n",
    "        price = self.price(-share, outcome)\n",
    "        self._book.append({'name':name, \n",
    "                           'shares':-shares, \n",
    "                           'outcome':outcome, \n",
    "                           'paid':-price}) \n",
    "        self.market_value -= price        \n",
    "        self._history.append(self.p)        \n",
    "        return price\n",
    "\n",
    "    def outcome_probability(self):\n",
    "        K = np.exp(self.x/self.b)\n",
    "        return K/K.sum()\n",
    "    \n",
    "    @property\n",
    "    def p(self):\n",
    "        return self.outcome_probability()\n",
    "    \n",
    "    def history(self):\n",
    "        return np.array(self._history)"
   ]
  },
  {
   "cell_type": "code",
   "execution_count": 30,
   "metadata": {
    "collapsed": false
   },
   "outputs": [],
   "source": [
    "pm = LS_LMSRMarket(result1_task1, init=10., vig=0.1)"
   ]
  },
  {
   "cell_type": "code",
   "execution_count": 31,
   "metadata": {
    "collapsed": false
   },
   "outputs": [
    {
     "name": "stdout",
     "output_type": "stream",
     "text": [
      "Mark paid 1.00 EUR, for 1.74 shares of outcome 0, which will give him 2.84 EUR if he wins\n"
     ]
    },
    {
     "data": {
      "text/plain": [
       "array(1.7413109375)"
      ]
     },
     "execution_count": 31,
     "metadata": {},
     "output_type": "execute_result"
    }
   ],
   "source": [
    "pm.buy_shares('Mark', 1., 0)"
   ]
  },
  {
   "cell_type": "code",
   "execution_count": 32,
   "metadata": {
    "collapsed": false
   },
   "outputs": [
    {
     "name": "stdout",
     "output_type": "stream",
     "text": [
      "Erik paid 300.00 EUR, for 303.33 shares of outcome 1, which will give him 305.96 EUR if he wins\n",
      "Soeren paid 1.00 EUR, for 24.98 shares of outcome 0, which will give him 245.69 EUR if he wins\n",
      "Albert paid 3.00 EUR, for 3.18 shares of outcome 1, which will give him 3.21 EUR if he wins\n"
     ]
    },
    {
     "data": {
      "text/plain": [
       "array(3.1762366179231214)"
      ]
     },
     "execution_count": 32,
     "metadata": {},
     "output_type": "execute_result"
    }
   ],
   "source": [
    "pm.buy_shares('Erik', 300., 1)\n",
    "pm.buy_shares('Soeren', 1., 0)\n",
    "pm.buy_shares('Albert', 3., 1)"
   ]
  },
  {
   "cell_type": "code",
   "execution_count": 33,
   "metadata": {
    "collapsed": false,
    "scrolled": true
   },
   "outputs": [
    {
     "data": {
      "text/plain": [
       "315.0"
      ]
     },
     "execution_count": 33,
     "metadata": {},
     "output_type": "execute_result"
    }
   ],
   "source": [
    "pm.market_value"
   ]
  },
  {
   "cell_type": "code",
   "execution_count": 34,
   "metadata": {
    "collapsed": false
   },
   "outputs": [
    {
     "data": {
      "text/html": [
       "<div>\n",
       "<table border=\"1\" class=\"dataframe\">\n",
       "  <thead>\n",
       "    <tr style=\"text-align: right;\">\n",
       "      <th></th>\n",
       "      <th>name</th>\n",
       "      <th>outcome</th>\n",
       "      <th>paid</th>\n",
       "      <th>shares</th>\n",
       "    </tr>\n",
       "  </thead>\n",
       "  <tbody>\n",
       "    <tr>\n",
       "      <th>0</th>\n",
       "      <td>Mark</td>\n",
       "      <td>0</td>\n",
       "      <td>1</td>\n",
       "      <td>1.7413109375</td>\n",
       "    </tr>\n",
       "    <tr>\n",
       "      <th>1</th>\n",
       "      <td>Erik</td>\n",
       "      <td>1</td>\n",
       "      <td>300</td>\n",
       "      <td>303.32944019</td>\n",
       "    </tr>\n",
       "    <tr>\n",
       "      <th>2</th>\n",
       "      <td>Soeren</td>\n",
       "      <td>0</td>\n",
       "      <td>1</td>\n",
       "      <td>24.9783838402</td>\n",
       "    </tr>\n",
       "    <tr>\n",
       "      <th>3</th>\n",
       "      <td>Albert</td>\n",
       "      <td>1</td>\n",
       "      <td>3</td>\n",
       "      <td>3.17623661792</td>\n",
       "    </tr>\n",
       "  </tbody>\n",
       "</table>\n",
       "</div>"
      ],
      "text/plain": [
       "     name  outcome  paid         shares\n",
       "0    Mark        0     1   1.7413109375\n",
       "1    Erik        1   300   303.32944019\n",
       "2  Soeren        0     1  24.9783838402\n",
       "3  Albert        1     3  3.17623661792"
      ]
     },
     "execution_count": 34,
     "metadata": {},
     "output_type": "execute_result"
    }
   ],
   "source": [
    "pm.book"
   ]
  },
  {
   "cell_type": "code",
   "execution_count": 43,
   "metadata": {
    "collapsed": false
   },
   "outputs": [
    {
     "data": {
      "text/html": [
       "<div>\n",
       "<table border=\"1\" class=\"dataframe\">\n",
       "  <thead>\n",
       "    <tr style=\"text-align: right;\">\n",
       "      <th></th>\n",
       "      <th>paid</th>\n",
       "      <th>possible_payout</th>\n",
       "    </tr>\n",
       "    <tr>\n",
       "      <th>name</th>\n",
       "      <th></th>\n",
       "      <th></th>\n",
       "    </tr>\n",
       "  </thead>\n",
       "  <tbody>\n",
       "    <tr>\n",
       "      <th>Albert</th>\n",
       "      <td>3</td>\n",
       "      <td>3.264261</td>\n",
       "    </tr>\n",
       "    <tr>\n",
       "      <th>Erik</th>\n",
       "      <td>300</td>\n",
       "      <td>311.735739</td>\n",
       "    </tr>\n",
       "    <tr>\n",
       "      <th>Mark</th>\n",
       "      <td>1</td>\n",
       "      <td>20.528414</td>\n",
       "    </tr>\n",
       "    <tr>\n",
       "      <th>Soeren</th>\n",
       "      <td>1</td>\n",
       "      <td>294.471586</td>\n",
       "    </tr>\n",
       "  </tbody>\n",
       "</table>\n",
       "</div>"
      ],
      "text/plain": [
       "        paid  possible_payout\n",
       "name                         \n",
       "Albert     3         3.264261\n",
       "Erik     300       311.735739\n",
       "Mark       1        20.528414\n",
       "Soeren     1       294.471586"
      ]
     },
     "execution_count": 43,
     "metadata": {},
     "output_type": "execute_result"
    }
   ],
   "source": [
    "total_shares = pm.book.groupby('outcome').shares.sum()\n",
    "book = pm.book\n",
    "book['possible_payout'] = pm.market_value * pm.book.shares / total_shares.values[pm.book.outcome.values]\n",
    "book['ownership_ratio'] = pm.book.shares / total_shares.values[pm.book.outcome.values]\n",
    "grouped = book.groupby('name')\n",
    "df = grouped.paid.sum().to_frame(name='paid')\n",
    "df['possible_payout'] = grouped.possible_payout.sum()\n",
    "df"
   ]
  },
  {
   "cell_type": "code",
   "execution_count": 44,
   "metadata": {
    "collapsed": false
   },
   "outputs": [
    {
     "data": {
      "text/html": [
       "<div>\n",
       "<table border=\"1\" class=\"dataframe\">\n",
       "  <thead>\n",
       "    <tr style=\"text-align: right;\">\n",
       "      <th></th>\n",
       "      <th>name</th>\n",
       "      <th>outcome</th>\n",
       "      <th>paid</th>\n",
       "      <th>shares</th>\n",
       "      <th>possible_payout</th>\n",
       "      <th>ownership_ratio</th>\n",
       "    </tr>\n",
       "  </thead>\n",
       "  <tbody>\n",
       "    <tr>\n",
       "      <th>0</th>\n",
       "      <td>Mark</td>\n",
       "      <td>0</td>\n",
       "      <td>1</td>\n",
       "      <td>1.7413109375</td>\n",
       "      <td>20.52841</td>\n",
       "      <td>0.06516957</td>\n",
       "    </tr>\n",
       "    <tr>\n",
       "      <th>1</th>\n",
       "      <td>Erik</td>\n",
       "      <td>1</td>\n",
       "      <td>300</td>\n",
       "      <td>303.32944019</td>\n",
       "      <td>311.7357</td>\n",
       "      <td>0.9896373</td>\n",
       "    </tr>\n",
       "    <tr>\n",
       "      <th>2</th>\n",
       "      <td>Soeren</td>\n",
       "      <td>0</td>\n",
       "      <td>1</td>\n",
       "      <td>24.9783838402</td>\n",
       "      <td>294.4716</td>\n",
       "      <td>0.9348304</td>\n",
       "    </tr>\n",
       "    <tr>\n",
       "      <th>3</th>\n",
       "      <td>Albert</td>\n",
       "      <td>1</td>\n",
       "      <td>3</td>\n",
       "      <td>3.17623661792</td>\n",
       "      <td>3.264261</td>\n",
       "      <td>0.01036273</td>\n",
       "    </tr>\n",
       "  </tbody>\n",
       "</table>\n",
       "</div>"
      ],
      "text/plain": [
       "     name  outcome  paid         shares possible_payout ownership_ratio\n",
       "0    Mark        0     1   1.7413109375        20.52841      0.06516957\n",
       "1    Erik        1   300   303.32944019        311.7357       0.9896373\n",
       "2  Soeren        0     1  24.9783838402        294.4716       0.9348304\n",
       "3  Albert        1     3  3.17623661792        3.264261      0.01036273"
      ]
     },
     "execution_count": 44,
     "metadata": {},
     "output_type": "execute_result"
    }
   ],
   "source": [
    "book"
   ]
  },
  {
   "cell_type": "code",
   "execution_count": 45,
   "metadata": {
    "collapsed": false
   },
   "outputs": [
    {
     "data": {
      "text/plain": [
       "array([  31.71969478,  311.50567681])"
      ]
     },
     "execution_count": 45,
     "metadata": {},
     "output_type": "execute_result"
    }
   ],
   "source": [
    "pm.x"
   ]
  },
  {
   "cell_type": "code",
   "execution_count": 46,
   "metadata": {
    "collapsed": false
   },
   "outputs": [
    {
     "data": {
      "text/plain": [
       "315.0"
      ]
     },
     "execution_count": 46,
     "metadata": {},
     "output_type": "execute_result"
    }
   ],
   "source": [
    "pm.market_value"
   ]
  },
  {
   "cell_type": "code",
   "execution_count": 9,
   "metadata": {
    "collapsed": false
   },
   "outputs": [
    {
     "data": {
      "text/plain": [
       "<matplotlib.legend.Legend at 0x114872fd0>"
      ]
     },
     "execution_count": 9,
     "metadata": {},
     "output_type": "execute_result"
    },
    {
     "data": {
      "image/png": "[encoded data removed]",
      "text/plain": [
       "<matplotlib.figure.Figure at 0x1147cc790>"
      ]
     },
     "metadata": {},
     "output_type": "display_data"
    }
   ],
   "source": [
    "pl.plot(pm.history())\n",
    "pl.ylim([0.,1.])\n",
    "pl.legend(['outcome 0', 'outcome 1'])"
   ]
  },
  {
   "cell_type": "markdown",
   "metadata": {},
   "source": [
    "# The Augur example \n",
    "Inspired from [Augur white paper](http://augur.link/augur.pdf)"
   ]
  },
  {
   "cell_type": "markdown",
   "metadata": {},
   "source": [
    "Joe is creating a new event"
   ]
  },
  {
   "cell_type": "code",
   "execution_count": 10,
   "metadata": {
    "collapsed": true
   },
   "outputs": [],
   "source": [
    "new_event = {\n",
    "    \"type\": \"CreateEvent\", \n",
    "    \"vin\": [{\n",
    "        \"n\": 0,\n",
    "        \"value\": 0.01000000,\n",
    "        \"units\": \"bitcoin\", \n",
    "        \"scriptSig\": \"\"\"\n",
    "            <Joe’s signature>\n",
    "            <Joe´s public key >\"\"\"\n",
    "        }], \n",
    "    \"vout\": [{\n",
    "        \"n\": 0,\n",
    "        \"value\" : 0.01000000, \n",
    "        \"units\": \"bitcoin\", \n",
    "        \"event\": {\n",
    "            \"id\": \"<event hash >\", \n",
    "            \"description\": \"\"\"Hillary Clinton \n",
    "                              wins the 2016 U.S. \n",
    "                              Presidential Election.\"\"\",\n",
    "            \"branch\": \"politics\", \n",
    "            \"is_binary\": True, \n",
    "            \"valid_range\": [0, 1], \n",
    "            \"expiration\": 1478329200, \n",
    "            \"creator\": \"<Joe’s address>\"\n",
    "            },\n",
    "        \"address\": \"<base-58 event ID>\", \n",
    "        \"script\": \"\"\"\n",
    "            OP_DUP \n",
    "            OP_HASH160 \n",
    "            <event hash > \n",
    "            OP_EQUALVERIFY \n",
    "            OP_MARKETCHECK\"\"\"\n",
    "        }]\n",
    "    }"
   ]
  },
  {
   "cell_type": "markdown",
   "metadata": {},
   "source": [
    "Joe is creating a Market of events"
   ]
  },
  {
   "cell_type": "code",
   "execution_count": 11,
   "metadata": {
    "collapsed": false
   },
   "outputs": [],
   "source": [
    "new_market = {\n",
    "    \"type\": \"CreateMarket\", \n",
    "    \"loss_limit\": 1.2, \n",
    "    \"vin\": [{\n",
    "        \"n\": 0,\n",
    "        \"value\": 27.72588722,\n",
    "        \"units\": \"bitcoin\", \n",
    "        \"tradingFee\": 0.005, \n",
    "        \"scriptSig\": \"\"\"<Joe’s signature>\n",
    "                        <Joe ’s public key >\"\"\"\n",
    "        }], \n",
    "    \"vout\": [{\n",
    "        \"n\": 0,\n",
    "        \"value\": 27.72588722, \n",
    "        \"units\": \"bitcoin\", \n",
    "        \"script\": \"\"\"\n",
    "            OP_DUP\n",
    "            OP_HASH160 \n",
    "            OP_EVENTLOOKUP \n",
    "            OP_ISSHARES \n",
    "            OP_MARKETCHECK\"\"\"\n",
    "        },\n",
    "        {\n",
    "        \"n\": 1,\n",
    "        \"value\": 10**9,\n",
    "        \"units\": \"shares\", \n",
    "        \"event\": \"<event -1 hash >\", \n",
    "        \"branch\": \"politics\", \n",
    "        \"script\": \"\"\"\n",
    "            OP_DUP\n",
    "            OP_HASH160 \n",
    "            OP_EVENTLOOKUP \n",
    "            OP_ISBITCOIN \n",
    "            OP_MARKETCHECK\"\"\"\n",
    "        },\n",
    "        {\n",
    "        \"n\": 2,\n",
    "        \"value\": 10**9,\n",
    "        \"units\": \"shares\",\n",
    "        \"event\": \"<event-2 hash>\",\n",
    "        \"branch\": \"politics\", \n",
    "        \"script\": \"\"\"\n",
    "            OP_DUP\n",
    "            OP_HASH160 \n",
    "            OP_EVENTLOOKUP \n",
    "            OP_ISBITCOIN\n",
    "            OP_MARKETCHECK\"\"\"\n",
    "        }],\n",
    "    \"id\": \"<market hash>\",\n",
    "    \"creator\": \"<Joe’s address>\"\n",
    "}"
   ]
  },
  {
   "cell_type": "markdown",
   "metadata": {},
   "source": [
    "# 100 Traders example"
   ]
  },
  {
   "cell_type": "code",
   "execution_count": 12,
   "metadata": {
    "collapsed": false
   },
   "outputs": [],
   "source": [
    "n = 100\n",
    "outcome = 0.001\n",
    "# The amount is assumed to increase linearly with time, as the market increases its liquidity\n",
    "amount = np.random.random([n]) * 100. #* (1+np.arange(n))/(1.*n)\n",
    "outcomes = np.zeros([n])\n",
    "outcomes[np.random.random([n])<outcome] = 1.0"
   ]
  },
  {
   "cell_type": "markdown",
   "metadata": {},
   "source": [
    "Creating the new task prediction market"
   ]
  },
  {
   "cell_type": "code",
   "execution_count": 13,
   "metadata": {
    "collapsed": false
   },
   "outputs": [],
   "source": [
    "pm = LS_LMSRMarket(result1_task1, init=10., vig=0.1)"
   ]
  },
  {
   "cell_type": "markdown",
   "metadata": {},
   "source": [
    "One company comes along and bet sh*t ton of money"
   ]
  },
  {
   "cell_type": "code",
   "execution_count": 14,
   "metadata": {
    "collapsed": false
   },
   "outputs": [
    {
     "name": "stdout",
     "output_type": "stream",
     "text": [
      "COBYLA failed to find a solution: Maximum number of function evaluations has been exceeded.\n",
      "EvilMegaCorp paid 1000.00 EUR, for 1002.00 shares of outcome 1, which will give him 1004.99 EUR if he wins\n"
     ]
    },
    {
     "data": {
      "text/plain": [
       "array(1002.0)"
      ]
     },
     "execution_count": 14,
     "metadata": {},
     "output_type": "execute_result"
    }
   ],
   "source": [
    "pm.buy_shares('EvilMegaCorp', 1000, 1)"
   ]
  },
  {
   "cell_type": "markdown",
   "metadata": {},
   "source": [
    "Performing the bets"
   ]
  },
  {
   "cell_type": "code",
   "execution_count": 15,
   "metadata": {
    "collapsed": false,
    "scrolled": true
   },
   "outputs": [
    {
     "name": "stdout",
     "output_type": "stream",
     "text": [
      "COBYLA failed to find a solution: Maximum number of function evaluations has been exceeded.\n",
      "Trader-0 paid 49.01 EUR, for 566.50 shares of outcome 0, which will give him 1049.74 EUR if he wins\n",
      "Trader-1 paid 7.33 EUR, for 25.86 shares of outcome 0, which will give him 46.17 EUR if he wins\n",
      "Trader-2 paid 3.85 EUR, for 13.06 shares of outcome 0, which will give him 22.90 EUR if he wins\n",
      "Trader-3 paid 88.11 EUR, for 245.95 shares of outcome 0, which will give him 332.66 EUR if he wins\n",
      "Trader-4 paid 71.24 EUR, for 152.99 shares of outcome 0, which will give him 186.37 EUR if he wins\n",
      "Trader-5 paid 58.93 EUR, for 112.24 shares of outcome 0, which will give him 128.94 EUR if he wins\n",
      "Trader-6 paid 76.32 EUR, for 133.16 shares of outcome 0, which will give him 144.84 EUR if he wins\n",
      "Trader-7 paid 3.87 EUR, for 6.50 shares of outcome 0, which will give him 7.05 EUR if he wins\n",
      "Trader-8 paid 45.04 EUR, for 73.91 shares of outcome 0, which will give him 78.26 EUR if he wins\n",
      "Trader-9 paid 4.30 EUR, for 6.93 shares of outcome 0, which will give him 7.32 EUR if he wins\n",
      "Trader-10 paid 22.76 EUR, for 36.28 shares of outcome 0, which will give him 37.92 EUR if he wins\n",
      "Trader-11 paid 60.38 EUR, for 93.29 shares of outcome 0, which will give him 95.16 EUR if he wins\n",
      "Trader-12 paid 69.14 EUR, for 102.76 shares of outcome 0, which will give him 102.49 EUR if he wins\n",
      "Trader-13 paid 34.94 EUR, for 50.71 shares of outcome 0, which will give him 50.09 EUR if he wins\n",
      "Trader-14 paid 59.50 EUR, for 84.44 shares of outcome 0, which will give him 82.22 EUR if he wins\n",
      "Trader-15 paid 47.67 EUR, for 66.32 shares of outcome 0, which will give him 63.95 EUR if he wins\n",
      "Trader-16 paid 26.81 EUR, for 36.87 shares of outcome 0, which will give him 35.37 EUR if he wins\n",
      "Trader-17 paid 90.76 EUR, for 122.06 shares of outcome 0, which will give him 115.44 EUR if he wins\n",
      "Trader-18 paid 99.48 EUR, for 130.38 shares of outcome 0, which will give him 121.81 EUR if he wins\n",
      "Trader-19 paid 61.46 EUR, for 79.27 shares of outcome 0, which will give him 73.59 EUR if he wins\n",
      "Trader-20 paid 76.88 EUR, for 97.75 shares of outcome 0, which will give him 90.14 EUR if he wins\n",
      "Trader-21 paid 51.35 EUR, for 64.64 shares of outcome 0, which will give him 59.38 EUR if he wins\n",
      "Trader-22 paid 12.50 EUR, for 15.68 shares of outcome 0, which will give him 14.39 EUR if he wins\n",
      "Trader-23 paid 82.50 EUR, for 102.40 shares of outcome 0, which will give him 93.50 EUR if he wins\n",
      "Trader-24 paid 91.92 EUR, for 112.67 shares of outcome 0, which will give him 102.39 EUR if he wins\n",
      "Trader-25 paid 27.42 EUR, for 33.46 shares of outcome 0, which will give him 30.37 EUR if he wins\n",
      "Trader-26 paid 29.56 EUR, for 35.94 shares of outcome 0, which will give him 32.58 EUR if he wins\n",
      "Trader-27 paid 94.99 EUR, for 114.39 shares of outcome 0, which will give him 103.32 EUR if he wins\n",
      "Trader-28 paid 40.40 EUR, for 48.43 shares of outcome 0, which will give him 43.68 EUR if he wins\n",
      "Trader-29 paid 50.49 EUR, for 60.23 shares of outcome 0, which will give him 54.25 EUR if he wins\n",
      "Trader-30 paid 69.92 EUR, for 82.90 shares of outcome 0, which will give him 74.53 EUR if he wins\n",
      "Trader-31 paid 5.15 EUR, for 6.11 shares of outcome 0, which will give him 5.49 EUR if he wins\n",
      "Trader-32 paid 11.58 EUR, for 13.71 shares of outcome 0, which will give him 12.32 EUR if he wins\n",
      "Trader-33 paid 27.22 EUR, for 32.15 shares of outcome 0, which will give him 28.87 EUR if he wins\n",
      "Trader-34 paid 57.23 EUR, for 67.29 shares of outcome 0, which will give him 60.37 EUR if he wins\n",
      "Trader-35 paid 84.30 EUR, for 98.51 shares of outcome 0, which will give him 88.24 EUR if he wins\n",
      "Trader-36 paid 78.05 EUR, for 90.74 shares of outcome 0, which will give him 81.19 EUR if he wins\n",
      "Trader-37 paid 44.18 EUR, for 51.22 shares of outcome 0, which will give him 45.81 EUR if he wins\n",
      "Trader-38 paid 46.03 EUR, for 53.22 shares of outcome 0, which will give him 47.57 EUR if he wins\n",
      "Trader-39 paid 60.34 EUR, for 69.52 shares of outcome 0, which will give him 62.10 EUR if he wins\n",
      "Trader-40 paid 70.70 EUR, for 81.15 shares of outcome 0, which will give him 72.44 EUR if he wins\n",
      "Trader-41 paid 56.67 EUR, for 64.87 shares of outcome 0, which will give him 57.89 EUR if he wins\n",
      "Trader-42 paid 98.07 EUR, for 111.70 shares of outcome 0, which will give him 99.63 EUR if he wins\n",
      "Trader-43 paid 21.39 EUR, for 24.35 shares of outcome 0, which will give him 21.72 EUR if he wins\n",
      "Trader-44 paid 66.02 EUR, for 74.92 shares of outcome 0, which will give him 66.80 EUR if he wins\n",
      "Trader-45 paid 19.25 EUR, for 21.84 shares of outcome 0, which will give him 19.47 EUR if he wins\n",
      "Trader-46 paid 63.03 EUR, for 71.30 shares of outcome 0, which will give him 63.56 EUR if he wins\n",
      "Trader-47 paid 63.69 EUR, for 71.87 shares of outcome 0, which will give him 64.06 EUR if he wins\n",
      "Trader-48 paid 99.52 EUR, for 111.86 shares of outcome 0, which will give him 99.70 EUR if he wins\n",
      "Trader-49 paid 40.23 EUR, for 45.18 shares of outcome 0, which will give him 40.27 EUR if he wins\n",
      "Trader-50 paid 42.87 EUR, for 48.07 shares of outcome 0, which will give him 42.85 EUR if he wins\n",
      "Trader-51 paid 62.39 EUR, for 69.82 shares of outcome 0, which will give him 62.23 EUR if he wins\n",
      "Trader-52 paid 26.67 EUR, for 29.83 shares of outcome 0, which will give him 26.59 EUR if he wins\n",
      "Trader-53 paid 33.24 EUR, for 37.14 shares of outcome 0, which will give him 33.10 EUR if he wins\n",
      "Trader-54 paid 73.57 EUR, for 81.99 shares of outcome 0, which will give him 73.10 EUR if he wins\n",
      "Trader-55 paid 99.32 EUR, for 110.37 shares of outcome 0, which will give him 98.42 EUR if he wins\n",
      "Trader-56 paid 75.26 EUR, for 83.48 shares of outcome 0, which will give him 74.46 EUR if he wins\n",
      "Trader-57 paid 91.02 EUR, for 100.73 shares of outcome 0, which will give him 89.87 EUR if he wins\n",
      "Trader-58 paid 88.65 EUR, for 97.91 shares of outcome 0, which will give him 87.38 EUR if he wins\n",
      "Trader-59 paid 77.20 EUR, for 85.13 shares of outcome 0, which will give him 75.99 EUR if he wins\n",
      "Trader-60 paid 67.80 EUR, for 74.67 shares of outcome 0, which will give him 66.67 EUR if he wins\n",
      "Trader-61 paid 38.29 EUR, for 42.15 shares of outcome 0, which will give him 37.64 EUR if he wins\n",
      "Trader-62 paid 43.52 EUR, for 47.86 shares of outcome 0, which will give him 42.75 EUR if he wins\n",
      "Trader-63 paid 65.75 EUR, for 72.21 shares of outcome 0, which will give him 64.51 EUR if he wins\n",
      "Trader-64 paid 14.84 EUR, for 16.30 shares of outcome 0, which will give him 14.56 EUR if he wins\n",
      "Trader-65 paid 8.15 EUR, for 8.95 shares of outcome 0, which will give him 7.99 EUR if he wins\n",
      "Trader-66 paid 72.88 EUR, for 79.88 shares of outcome 0, which will give him 71.40 EUR if he wins\n",
      "Trader-67 paid 62.76 EUR, for 68.72 shares of outcome 0, which will give him 61.44 EUR if he wins\n",
      "Trader-68 paid 81.51 EUR, for 89.12 shares of outcome 0, which will give him 79.71 EUR if he wins\n",
      "Trader-69 paid 66.84 EUR, for 73.01 shares of outcome 0, which will give him 65.32 EUR if he wins\n",
      "Trader-70 paid 45.64 EUR, for 49.83 shares of outcome 0, which will give him 44.59 EUR if he wins\n",
      "Trader-71 paid 85.83 EUR, for 93.55 shares of outcome 0, which will give him 83.76 EUR if he wins\n",
      "Trader-72 paid 91.13 EUR, for 99.20 shares of outcome 0, which will give him 88.85 EUR if he wins\n",
      "Trader-73 paid 17.74 EUR, for 19.32 shares of outcome 0, which will give him 17.31 EUR if he wins\n",
      "Trader-74 paid 36.27 EUR, for 39.47 shares of outcome 0, which will give him 35.36 EUR if he wins\n",
      "Trader-75 paid 15.15 EUR, for 16.49 shares of outcome 0, which will give him 14.77 EUR if he wins\n",
      "Trader-76 paid 86.90 EUR, for 94.39 shares of outcome 0, which will give him 84.61 EUR if he wins\n",
      "Trader-77 paid 66.54 EUR, for 72.23 shares of outcome 0, which will give him 64.77 EUR if he wins\n",
      "Trader-78 paid 66.16 EUR, for 71.76 shares of outcome 0, which will give him 64.37 EUR if he wins\n",
      "Trader-79 paid 20.36 EUR, for 22.09 shares of outcome 0, which will give him 19.82 EUR if he wins\n",
      "Trader-80 paid 96.75 EUR, for 104.76 shares of outcome 0, which will give him 94.03 EUR if he wins\n",
      "Trader-81 paid 10.44 EUR, for 11.31 shares of outcome 0, which will give him 10.15 EUR if he wins\n",
      "Trader-82 paid 98.60 EUR, for 106.63 shares of outcome 0, which will give him 95.76 EUR if he wins\n",
      "Trader-83 paid 94.70 EUR, for 102.31 shares of outcome 0, which will give him 91.93 EUR if he wins\n",
      "Trader-84 paid 95.19 EUR, for 102.74 shares of outcome 0, which will give him 92.36 EUR if he wins\n",
      "Trader-85 paid 23.70 EUR, for 25.59 shares of outcome 0, which will give him 23.01 EUR if he wins\n",
      "Trader-86 paid 98.00 EUR, for 105.64 shares of outcome 0, which will give him 95.03 EUR if he wins\n",
      "Trader-87 paid 13.49 EUR, for 14.56 shares of outcome 0, which will give him 13.09 EUR if he wins\n",
      "Trader-88 paid 42.49 EUR, for 45.80 shares of outcome 0, which will give him 41.21 EUR if he wins\n",
      "Trader-89 paid 10.27 EUR, for 11.08 shares of outcome 0, which will give him 9.97 EUR if he wins\n",
      "Trader-90 paid 63.40 EUR, for 68.28 shares of outcome 0, which will give him 61.46 EUR if he wins\n",
      "Trader-91 paid 30.11 EUR, for 32.42 shares of outcome 0, which will give him 29.19 EUR if he wins\n",
      "Trader-92 paid 29.69 EUR, for 31.97 shares of outcome 0, which will give him 28.78 EUR if he wins\n",
      "Trader-93 paid 90.66 EUR, for 97.49 shares of outcome 0, which will give him 87.82 EUR if he wins\n",
      "Trader-94 paid 64.64 EUR, for 69.49 shares of outcome 0, which will give him 62.62 EUR if he wins\n",
      "Trader-95 paid 5.89 EUR, for 6.33 shares of outcome 0, which will give him 5.71 EUR if he wins\n",
      "Trader-96 paid 75.34 EUR, for 80.93 shares of outcome 0, which will give him 72.96 EUR if he wins\n",
      "Trader-97 paid 0.98 EUR, for 1.06 shares of outcome 0, which will give him 0.95 EUR if he wins\n",
      "Trader-98 paid 13.18 EUR, for 14.16 shares of outcome 0, which will give him 12.77 EUR if he wins\n",
      "Trader-99 paid 94.98 EUR, for 101.92 shares of outcome 0, which will give him 91.93 EUR if he wins\n"
     ]
    }
   ],
   "source": [
    "for i, a, o in zip(range(n),amount, outcomes):\n",
    "    pm.buy_shares('Trader-%d'%(i), a, int(o))"
   ]
  },
  {
   "cell_type": "code",
   "execution_count": 16,
   "metadata": {
    "collapsed": false
   },
   "outputs": [
    {
     "name": "stdout",
     "output_type": "stream",
     "text": [
      "COBYLA failed to find a solution: Maximum number of function evaluations has been exceeded.\n",
      "EvilMegaCorp paid 1000.00 EUR, for 13536.53 shares of outcome 1, which will give him 6895.32 EUR if he wins\n"
     ]
    },
    {
     "data": {
      "text/plain": [
       "array(13536.530024649786)"
      ]
     },
     "execution_count": 16,
     "metadata": {},
     "output_type": "execute_result"
    }
   ],
   "source": [
    "pm.buy_shares('EvilMegaCorp', 1000, 1)"
   ]
  },
  {
   "cell_type": "markdown",
   "metadata": {},
   "source": [
    "The total to pay for each outcome"
   ]
  },
  {
   "cell_type": "code",
   "execution_count": 17,
   "metadata": {
    "collapsed": false
   },
   "outputs": [
    {
     "data": {
      "text/plain": [
       "7408.2715701809821"
      ]
     },
     "execution_count": 17,
     "metadata": {},
     "output_type": "execute_result"
    }
   ],
   "source": [
    "pm.market_value"
   ]
  },
  {
   "cell_type": "code",
   "execution_count": 18,
   "metadata": {
    "collapsed": false
   },
   "outputs": [],
   "source": [
    "total_shares = pm.book.groupby('outcome').shares.sum()\n",
    "book = pm.book\n",
    "book['possible_payout'] = pm.market_value * pm.book.shares / total_shares.values[pm.book.outcome.values]\n",
    "grouped = book.groupby('name')\n",
    "df = grouped.paid.sum().to_frame(name='paid')\n",
    "df['possible_payout'] = grouped.possible_payout.sum()"
   ]
  },
  {
   "cell_type": "code",
   "execution_count": 19,
   "metadata": {
    "collapsed": false
   },
   "outputs": [
    {
     "data": {
      "text/html": [
       "<div>\n",
       "<table border=\"1\" class=\"dataframe\">\n",
       "  <thead>\n",
       "    <tr style=\"text-align: right;\">\n",
       "      <th></th>\n",
       "      <th>paid</th>\n",
       "      <th>possible_payout</th>\n",
       "    </tr>\n",
       "    <tr>\n",
       "      <th>name</th>\n",
       "      <th></th>\n",
       "      <th></th>\n",
       "    </tr>\n",
       "  </thead>\n",
       "  <tbody>\n",
       "    <tr>\n",
       "      <th>EvilMegaCorp</th>\n",
       "      <td>2000.000000</td>\n",
       "      <td>7408.271570</td>\n",
       "    </tr>\n",
       "    <tr>\n",
       "      <th>Trader-0</th>\n",
       "      <td>49.009162</td>\n",
       "      <td>591.130578</td>\n",
       "    </tr>\n",
       "    <tr>\n",
       "      <th>Trader-1</th>\n",
       "      <td>7.329255</td>\n",
       "      <td>26.987177</td>\n",
       "    </tr>\n",
       "    <tr>\n",
       "      <th>Trader-10</th>\n",
       "      <td>22.761491</td>\n",
       "      <td>37.855273</td>\n",
       "    </tr>\n",
       "    <tr>\n",
       "      <th>Trader-11</th>\n",
       "      <td>60.384992</td>\n",
       "      <td>97.344795</td>\n",
       "    </tr>\n",
       "    <tr>\n",
       "      <th>Trader-12</th>\n",
       "      <td>69.143253</td>\n",
       "      <td>107.223475</td>\n",
       "    </tr>\n",
       "    <tr>\n",
       "      <th>Trader-13</th>\n",
       "      <td>34.941823</td>\n",
       "      <td>52.912785</td>\n",
       "    </tr>\n",
       "    <tr>\n",
       "      <th>Trader-14</th>\n",
       "      <td>59.495336</td>\n",
       "      <td>88.109591</td>\n",
       "    </tr>\n",
       "    <tr>\n",
       "      <th>Trader-15</th>\n",
       "      <td>47.673667</td>\n",
       "      <td>69.207184</td>\n",
       "    </tr>\n",
       "    <tr>\n",
       "      <th>Trader-16</th>\n",
       "      <td>26.808963</td>\n",
       "      <td>38.468481</td>\n",
       "    </tr>\n",
       "    <tr>\n",
       "      <th>Trader-17</th>\n",
       "      <td>90.764785</td>\n",
       "      <td>127.362649</td>\n",
       "    </tr>\n",
       "    <tr>\n",
       "      <th>Trader-18</th>\n",
       "      <td>99.483789</td>\n",
       "      <td>136.048423</td>\n",
       "    </tr>\n",
       "    <tr>\n",
       "      <th>Trader-19</th>\n",
       "      <td>61.455561</td>\n",
       "      <td>82.716239</td>\n",
       "    </tr>\n",
       "    <tr>\n",
       "      <th>Trader-2</th>\n",
       "      <td>3.854513</td>\n",
       "      <td>13.629658</td>\n",
       "    </tr>\n",
       "    <tr>\n",
       "      <th>Trader-20</th>\n",
       "      <td>76.883839</td>\n",
       "      <td>101.994916</td>\n",
       "    </tr>\n",
       "    <tr>\n",
       "      <th>Trader-21</th>\n",
       "      <td>51.351543</td>\n",
       "      <td>67.448660</td>\n",
       "    </tr>\n",
       "    <tr>\n",
       "      <th>Trader-22</th>\n",
       "      <td>12.497101</td>\n",
       "      <td>16.362021</td>\n",
       "    </tr>\n",
       "    <tr>\n",
       "      <th>Trader-23</th>\n",
       "      <td>82.502978</td>\n",
       "      <td>106.849451</td>\n",
       "    </tr>\n",
       "    <tr>\n",
       "      <th>Trader-24</th>\n",
       "      <td>91.924644</td>\n",
       "      <td>117.572043</td>\n",
       "    </tr>\n",
       "    <tr>\n",
       "      <th>Trader-25</th>\n",
       "      <td>27.418155</td>\n",
       "      <td>34.912268</td>\n",
       "    </tr>\n",
       "    <tr>\n",
       "      <th>Trader-26</th>\n",
       "      <td>29.557966</td>\n",
       "      <td>37.505780</td>\n",
       "    </tr>\n",
       "    <tr>\n",
       "      <th>Trader-27</th>\n",
       "      <td>94.993588</td>\n",
       "      <td>119.359616</td>\n",
       "    </tr>\n",
       "    <tr>\n",
       "      <th>Trader-28</th>\n",
       "      <td>40.402446</td>\n",
       "      <td>50.534756</td>\n",
       "    </tr>\n",
       "    <tr>\n",
       "      <th>Trader-29</th>\n",
       "      <td>50.489049</td>\n",
       "      <td>62.850653</td>\n",
       "    </tr>\n",
       "    <tr>\n",
       "      <th>Trader-3</th>\n",
       "      <td>88.110532</td>\n",
       "      <td>256.640181</td>\n",
       "    </tr>\n",
       "    <tr>\n",
       "      <th>Trader-30</th>\n",
       "      <td>69.915586</td>\n",
       "      <td>86.498696</td>\n",
       "    </tr>\n",
       "    <tr>\n",
       "      <th>Trader-31</th>\n",
       "      <td>5.154403</td>\n",
       "      <td>6.373185</td>\n",
       "    </tr>\n",
       "    <tr>\n",
       "      <th>Trader-32</th>\n",
       "      <td>11.580238</td>\n",
       "      <td>14.304507</td>\n",
       "    </tr>\n",
       "    <tr>\n",
       "      <th>Trader-33</th>\n",
       "      <td>27.217732</td>\n",
       "      <td>33.547174</td>\n",
       "    </tr>\n",
       "    <tr>\n",
       "      <th>Trader-34</th>\n",
       "      <td>57.226003</td>\n",
       "      <td>70.219155</td>\n",
       "    </tr>\n",
       "    <tr>\n",
       "      <th>...</th>\n",
       "      <td>...</td>\n",
       "      <td>...</td>\n",
       "    </tr>\n",
       "    <tr>\n",
       "      <th>Trader-72</th>\n",
       "      <td>91.132777</td>\n",
       "      <td>103.508468</td>\n",
       "    </tr>\n",
       "    <tr>\n",
       "      <th>Trader-73</th>\n",
       "      <td>17.743041</td>\n",
       "      <td>20.161165</td>\n",
       "    </tr>\n",
       "    <tr>\n",
       "      <th>Trader-74</th>\n",
       "      <td>36.273736</td>\n",
       "      <td>41.189295</td>\n",
       "    </tr>\n",
       "    <tr>\n",
       "      <th>Trader-75</th>\n",
       "      <td>15.152013</td>\n",
       "      <td>17.204976</td>\n",
       "    </tr>\n",
       "    <tr>\n",
       "      <th>Trader-76</th>\n",
       "      <td>86.897143</td>\n",
       "      <td>98.493238</td>\n",
       "    </tr>\n",
       "    <tr>\n",
       "      <th>Trader-77</th>\n",
       "      <td>66.538326</td>\n",
       "      <td>75.367011</td>\n",
       "    </tr>\n",
       "    <tr>\n",
       "      <th>Trader-78</th>\n",
       "      <td>66.159904</td>\n",
       "      <td>74.877229</td>\n",
       "    </tr>\n",
       "    <tr>\n",
       "      <th>Trader-79</th>\n",
       "      <td>20.363493</td>\n",
       "      <td>23.050190</td>\n",
       "    </tr>\n",
       "    <tr>\n",
       "      <th>Trader-8</th>\n",
       "      <td>45.042872</td>\n",
       "      <td>77.124725</td>\n",
       "    </tr>\n",
       "    <tr>\n",
       "      <th>Trader-80</th>\n",
       "      <td>96.751837</td>\n",
       "      <td>109.317885</td>\n",
       "    </tr>\n",
       "    <tr>\n",
       "      <th>Trader-81</th>\n",
       "      <td>10.440355</td>\n",
       "      <td>11.803981</td>\n",
       "    </tr>\n",
       "    <tr>\n",
       "      <th>Trader-82</th>\n",
       "      <td>98.600458</td>\n",
       "      <td>111.268060</td>\n",
       "    </tr>\n",
       "    <tr>\n",
       "      <th>Trader-83</th>\n",
       "      <td>94.701235</td>\n",
       "      <td>106.762417</td>\n",
       "    </tr>\n",
       "    <tr>\n",
       "      <th>Trader-84</th>\n",
       "      <td>95.191965</td>\n",
       "      <td>107.210087</td>\n",
       "    </tr>\n",
       "    <tr>\n",
       "      <th>Trader-85</th>\n",
       "      <td>23.702136</td>\n",
       "      <td>26.704371</td>\n",
       "    </tr>\n",
       "    <tr>\n",
       "      <th>Trader-86</th>\n",
       "      <td>97.996905</td>\n",
       "      <td>110.234023</td>\n",
       "    </tr>\n",
       "    <tr>\n",
       "      <th>Trader-87</th>\n",
       "      <td>13.494046</td>\n",
       "      <td>15.188063</td>\n",
       "    </tr>\n",
       "    <tr>\n",
       "      <th>Trader-88</th>\n",
       "      <td>42.485733</td>\n",
       "      <td>47.787911</td>\n",
       "    </tr>\n",
       "    <tr>\n",
       "      <th>Trader-89</th>\n",
       "      <td>10.274767</td>\n",
       "      <td>11.558943</td>\n",
       "    </tr>\n",
       "    <tr>\n",
       "      <th>Trader-9</th>\n",
       "      <td>4.300391</td>\n",
       "      <td>7.234276</td>\n",
       "    </tr>\n",
       "    <tr>\n",
       "      <th>Trader-90</th>\n",
       "      <td>63.395668</td>\n",
       "      <td>71.246219</td>\n",
       "    </tr>\n",
       "    <tr>\n",
       "      <th>Trader-91</th>\n",
       "      <td>30.105324</td>\n",
       "      <td>33.833690</td>\n",
       "    </tr>\n",
       "    <tr>\n",
       "      <th>Trader-92</th>\n",
       "      <td>29.687105</td>\n",
       "      <td>33.354870</td>\n",
       "    </tr>\n",
       "    <tr>\n",
       "      <th>Trader-93</th>\n",
       "      <td>90.659028</td>\n",
       "      <td>101.727653</td>\n",
       "    </tr>\n",
       "    <tr>\n",
       "      <th>Trader-94</th>\n",
       "      <td>64.640329</td>\n",
       "      <td>72.508123</td>\n",
       "    </tr>\n",
       "    <tr>\n",
       "      <th>Trader-95</th>\n",
       "      <td>5.888984</td>\n",
       "      <td>6.608673</td>\n",
       "    </tr>\n",
       "    <tr>\n",
       "      <th>Trader-96</th>\n",
       "      <td>75.341113</td>\n",
       "      <td>84.447589</td>\n",
       "    </tr>\n",
       "    <tr>\n",
       "      <th>Trader-97</th>\n",
       "      <td>0.984556</td>\n",
       "      <td>1.104331</td>\n",
       "    </tr>\n",
       "    <tr>\n",
       "      <th>Trader-98</th>\n",
       "      <td>13.179924</td>\n",
       "      <td>14.778531</td>\n",
       "    </tr>\n",
       "    <tr>\n",
       "      <th>Trader-99</th>\n",
       "      <td>94.978600</td>\n",
       "      <td>106.349961</td>\n",
       "    </tr>\n",
       "  </tbody>\n",
       "</table>\n",
       "<p>101 rows × 2 columns</p>\n",
       "</div>"
      ],
      "text/plain": [
       "                     paid  possible_payout\n",
       "name                                      \n",
       "EvilMegaCorp  2000.000000      7408.271570\n",
       "Trader-0        49.009162       591.130578\n",
       "Trader-1         7.329255        26.987177\n",
       "Trader-10       22.761491        37.855273\n",
       "Trader-11       60.384992        97.344795\n",
       "Trader-12       69.143253       107.223475\n",
       "Trader-13       34.941823        52.912785\n",
       "Trader-14       59.495336        88.109591\n",
       "Trader-15       47.673667        69.207184\n",
       "Trader-16       26.808963        38.468481\n",
       "Trader-17       90.764785       127.362649\n",
       "Trader-18       99.483789       136.048423\n",
       "Trader-19       61.455561        82.716239\n",
       "Trader-2         3.854513        13.629658\n",
       "Trader-20       76.883839       101.994916\n",
       "Trader-21       51.351543        67.448660\n",
       "Trader-22       12.497101        16.362021\n",
       "Trader-23       82.502978       106.849451\n",
       "Trader-24       91.924644       117.572043\n",
       "Trader-25       27.418155        34.912268\n",
       "Trader-26       29.557966        37.505780\n",
       "Trader-27       94.993588       119.359616\n",
       "Trader-28       40.402446        50.534756\n",
       "Trader-29       50.489049        62.850653\n",
       "Trader-3        88.110532       256.640181\n",
       "Trader-30       69.915586        86.498696\n",
       "Trader-31        5.154403         6.373185\n",
       "Trader-32       11.580238        14.304507\n",
       "Trader-33       27.217732        33.547174\n",
       "Trader-34       57.226003        70.219155\n",
       "...                   ...              ...\n",
       "Trader-72       91.132777       103.508468\n",
       "Trader-73       17.743041        20.161165\n",
       "Trader-74       36.273736        41.189295\n",
       "Trader-75       15.152013        17.204976\n",
       "Trader-76       86.897143        98.493238\n",
       "Trader-77       66.538326        75.367011\n",
       "Trader-78       66.159904        74.877229\n",
       "Trader-79       20.363493        23.050190\n",
       "Trader-8        45.042872        77.124725\n",
       "Trader-80       96.751837       109.317885\n",
       "Trader-81       10.440355        11.803981\n",
       "Trader-82       98.600458       111.268060\n",
       "Trader-83       94.701235       106.762417\n",
       "Trader-84       95.191965       107.210087\n",
       "Trader-85       23.702136        26.704371\n",
       "Trader-86       97.996905       110.234023\n",
       "Trader-87       13.494046        15.188063\n",
       "Trader-88       42.485733        47.787911\n",
       "Trader-89       10.274767        11.558943\n",
       "Trader-9         4.300391         7.234276\n",
       "Trader-90       63.395668        71.246219\n",
       "Trader-91       30.105324        33.833690\n",
       "Trader-92       29.687105        33.354870\n",
       "Trader-93       90.659028       101.727653\n",
       "Trader-94       64.640329        72.508123\n",
       "Trader-95        5.888984         6.608673\n",
       "Trader-96       75.341113        84.447589\n",
       "Trader-97        0.984556         1.104331\n",
       "Trader-98       13.179924        14.778531\n",
       "Trader-99       94.978600       106.349961\n",
       "\n",
       "[101 rows x 2 columns]"
      ]
     },
     "execution_count": 19,
     "metadata": {},
     "output_type": "execute_result"
    }
   ],
   "source": [
    "df"
   ]
  },
  {
   "cell_type": "code",
   "execution_count": 20,
   "metadata": {
    "collapsed": false,
    "scrolled": true
   },
   "outputs": [
    {
     "data": {
      "text/plain": [
       "outcome\n",
       "0     7099.632084\n",
       "1    14538.530025\n",
       "Name: shares, dtype: float64"
      ]
     },
     "execution_count": 20,
     "metadata": {},
     "output_type": "execute_result"
    }
   ],
   "source": [
    "total = pm.book.groupby('outcome').shares.sum()\n",
    "total"
   ]
  },
  {
   "cell_type": "code",
   "execution_count": 21,
   "metadata": {
    "collapsed": false
   },
   "outputs": [
    {
     "data": {
      "text/plain": [
       "outcome\n",
       "0    5398.27157\n",
       "1    2000.00000\n",
       "Name: paid, dtype: float64"
      ]
     },
     "execution_count": 21,
     "metadata": {},
     "output_type": "execute_result"
    }
   ],
   "source": [
    "pm.book.groupby('outcome').paid.sum()"
   ]
  },
  {
   "cell_type": "code",
   "execution_count": 22,
   "metadata": {
    "collapsed": false
   },
   "outputs": [
    {
     "data": {
      "text/plain": [
       "outcome\n",
       "0     7099.632084\n",
       "1    14538.530025\n",
       "Name: shares, dtype: float64"
      ]
     },
     "execution_count": 22,
     "metadata": {},
     "output_type": "execute_result"
    }
   ],
   "source": [
    "pm.book.groupby('outcome').shares.sum()"
   ]
  },
  {
   "cell_type": "code",
   "execution_count": 23,
   "metadata": {
    "collapsed": false
   },
   "outputs": [
    {
     "data": {
      "text/plain": [
       "array([ 0.23309422,  0.76690578])"
      ]
     },
     "execution_count": 23,
     "metadata": {},
     "output_type": "execute_result"
    }
   ],
   "source": [
    "pm.p"
   ]
  },
  {
   "cell_type": "code",
   "execution_count": 24,
   "metadata": {
    "collapsed": false
   },
   "outputs": [
    {
     "data": {
      "text/plain": [
       "array([[ 0.72966659],\n",
       "       [ 0.27033341]])"
      ]
     },
     "execution_count": 24,
     "metadata": {},
     "output_type": "execute_result"
    }
   ],
   "source": [
    "pm.book.groupby('outcome').sum().values/pm.book.groupby('outcome').sum().values.sum()"
   ]
  },
  {
   "cell_type": "markdown",
   "metadata": {},
   "source": [
    "Plot the market prediction history"
   ]
  },
  {
   "cell_type": "code",
   "execution_count": 25,
   "metadata": {
    "collapsed": false
   },
   "outputs": [
    {
     "data": {
      "text/plain": [
       "<matplotlib.text.Text at 0x1149816d0>"
      ]
     },
     "execution_count": 25,
     "metadata": {},
     "output_type": "execute_result"
    },
    {
     "data": {
      "image/png": "[encoded data removed]",
      "text/plain": [
       "<matplotlib.figure.Figure at 0x11490e310>"
      ]
     },
     "metadata": {},
     "output_type": "display_data"
    }
   ],
   "source": [
    "pl.plot(pm.history())\n",
    "pl.ylim([0.,1.])\n",
    "pl.legend(['outcome 0', 'outcome 1'])\n",
    "pl.title('%d Trades, total market value=%2.2f EUR'%(n, pm.market_value))"
   ]
  },
  {
   "cell_type": "markdown",
   "metadata": {},
   "source": [
    "The book of trades"
   ]
  },
  {
   "cell_type": "code",
   "execution_count": 26,
   "metadata": {
    "collapsed": false
   },
   "outputs": [
    {
     "ename": "AttributeError",
     "evalue": "'DataFrame' object has no attribute 'owed'",
     "output_type": "error",
     "traceback": [
      "\u001b[0;31m---------------------------------------------------------------------------\u001b[0m",
      "\u001b[0;31mAttributeError\u001b[0m                            Traceback (most recent call last)",
      "\u001b[0;32m<ipython-input-26-b0e34ecd7a7d>\u001b[0m in \u001b[0;36m<module>\u001b[0;34m()\u001b[0m\n\u001b[1;32m      1\u001b[0m \u001b[0mbook\u001b[0m \u001b[0;34m=\u001b[0m \u001b[0mpm\u001b[0m\u001b[0;34m.\u001b[0m\u001b[0mbook\u001b[0m\u001b[0;34m\u001b[0m\u001b[0m\n\u001b[0;32m----> 2\u001b[0;31m \u001b[0mbook\u001b[0m\u001b[0;34m[\u001b[0m\u001b[0;34m'possible_win'\u001b[0m\u001b[0;34m]\u001b[0m \u001b[0;34m=\u001b[0m \u001b[0mpm\u001b[0m\u001b[0;34m.\u001b[0m\u001b[0mbook\u001b[0m\u001b[0;34m.\u001b[0m\u001b[0mowed\u001b[0m \u001b[0;34m-\u001b[0m \u001b[0mpm\u001b[0m\u001b[0;34m.\u001b[0m\u001b[0mbook\u001b[0m\u001b[0;34m.\u001b[0m\u001b[0mpaid\u001b[0m\u001b[0;34m\u001b[0m\u001b[0m\n\u001b[0m\u001b[1;32m      3\u001b[0m \u001b[0mbook\u001b[0m\u001b[0;34m[\u001b[0m\u001b[0;34m'p0'\u001b[0m\u001b[0;34m]\u001b[0m \u001b[0;34m=\u001b[0m \u001b[0mpm\u001b[0m\u001b[0;34m.\u001b[0m\u001b[0mhistory\u001b[0m\u001b[0;34m(\u001b[0m\u001b[0;34m)\u001b[0m\u001b[0;34m[\u001b[0m\u001b[0;34m:\u001b[0m\u001b[0;34m,\u001b[0m\u001b[0;36m0\u001b[0m\u001b[0;34m]\u001b[0m\u001b[0;34m\u001b[0m\u001b[0m\n\u001b[1;32m      4\u001b[0m \u001b[0mbook\u001b[0m\u001b[0;34m[\u001b[0m\u001b[0;34m'p1'\u001b[0m\u001b[0;34m]\u001b[0m \u001b[0;34m=\u001b[0m \u001b[0mpm\u001b[0m\u001b[0;34m.\u001b[0m\u001b[0mhistory\u001b[0m\u001b[0;34m(\u001b[0m\u001b[0;34m)\u001b[0m\u001b[0;34m[\u001b[0m\u001b[0;34m:\u001b[0m\u001b[0;34m,\u001b[0m\u001b[0;36m1\u001b[0m\u001b[0;34m]\u001b[0m\u001b[0;34m\u001b[0m\u001b[0m\n\u001b[1;32m      5\u001b[0m \u001b[0mbook\u001b[0m\u001b[0;34m\u001b[0m\u001b[0m\n",
      "\u001b[0;32m/Users/pire/venv/jupyter/lib/python2.7/site-packages/pandas/core/generic.pyc\u001b[0m in \u001b[0;36m__getattr__\u001b[0;34m(self, name)\u001b[0m\n\u001b[1;32m   2148\u001b[0m                 \u001b[0;32mreturn\u001b[0m \u001b[0mself\u001b[0m\u001b[0;34m[\u001b[0m\u001b[0mname\u001b[0m\u001b[0;34m]\u001b[0m\u001b[0;34m\u001b[0m\u001b[0m\n\u001b[1;32m   2149\u001b[0m             raise AttributeError(\"'%s' object has no attribute '%s'\" %\n\u001b[0;32m-> 2150\u001b[0;31m                                  (type(self).__name__, name))\n\u001b[0m\u001b[1;32m   2151\u001b[0m \u001b[0;34m\u001b[0m\u001b[0m\n\u001b[1;32m   2152\u001b[0m     \u001b[0;32mdef\u001b[0m \u001b[0m__setattr__\u001b[0m\u001b[0;34m(\u001b[0m\u001b[0mself\u001b[0m\u001b[0;34m,\u001b[0m \u001b[0mname\u001b[0m\u001b[0;34m,\u001b[0m \u001b[0mvalue\u001b[0m\u001b[0;34m)\u001b[0m\u001b[0;34m:\u001b[0m\u001b[0;34m\u001b[0m\u001b[0m\n",
      "\u001b[0;31mAttributeError\u001b[0m: 'DataFrame' object has no attribute 'owed'"
     ]
    }
   ],
   "source": [
    "book = pm.book\n",
    "book['possible_win'] = pm.book.owed - pm.book.paid\n",
    "book['p0'] = pm.history()[:,0]\n",
    "book['p1'] = pm.history()[:,1]\n",
    "book"
   ]
  },
  {
   "cell_type": "code",
   "execution_count": null,
   "metadata": {
    "collapsed": false
   },
   "outputs": [],
   "source": [
    "pm.market_value"
   ]
  },
  {
   "cell_type": "code",
   "execution_count": null,
   "metadata": {
    "collapsed": false
   },
   "outputs": [],
   "source": [
    "pm.p"
   ]
  },
  {
   "cell_type": "code",
   "execution_count": null,
   "metadata": {
    "collapsed": true
   },
   "outputs": [],
   "source": []
  },
  {
   "cell_type": "code",
   "execution_count": null,
   "metadata": {
    "collapsed": true
   },
   "outputs": [],
   "source": []
  },
  {
   "cell_type": "code",
   "execution_count": null,
   "metadata": {
    "collapsed": true
   },
   "outputs": [],
   "source": []
  }
 ],
 "metadata": {
  "kernelspec": {
   "display_name": "Python 3",
   "language": "python",
   "name": "python3"
  },
  "language_info": {
   "codemirror_mode": {
    "name": "ipython",
    "version": 3
   },
   "file_extension": ".py",
   "mimetype": "text/x-python",
   "name": "python",
   "nbconvert_exporter": "python",
   "pygments_lexer": "ipython3",
   "version": "3.5.1"
  }
 },
 "nbformat": 4,
 "nbformat_minor": 0
}
