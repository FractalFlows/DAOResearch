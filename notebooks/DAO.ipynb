{
 "cells": [
  {
   "cell_type": "markdown",
   "metadata": {
    "run_control": {
     "marked": false
    }
   },
   "source": [
    "# Simple DAO contract"
   ]
  },
  {
   "cell_type": "code",
   "execution_count": 8,
   "metadata": {
    "collapsed": false
   },
   "outputs": [],
   "source": [
    "from collections import defaultdict\n",
    "\n",
    "class DAO(object):\n",
    "    def __init__(self, target, type, da=10):\n",
    "        \"\"\"\n",
    "        Parameters\n",
    "        ----------\n",
    "        target: str\n",
    "                A target object to improve\n",
    "        type:   str, ['doi', 'url']\n",
    "                A type of target\n",
    "        da:     int\n",
    "                The discretization of the authorship histogram\n",
    "        \"\"\"\n",
    "        self.target = target\n",
    "        self.type = type\n",
    "        self._reputation = {}\n",
    "        self._authorship = {}\n",
    "        self.rating = {}\n",
    "        self._author_log = [] # author transactions\n",
    "        self._rating_log = [] # rating transactions\n",
    "        self._da = da\n",
    "\n",
    "    @property\n",
    "    def url(self):\n",
    "        if self.type == 'doi':\n",
    "            return 'http://doi.og/{}'.format(self.target)\n",
    "        if self.type == 'url':\n",
    "            return self.target\n",
    "        \n",
    "    def reputation(self, user_id):\n",
    "        if not user_id in self._reputation:\n",
    "            # Add the user and creates a prior reputation\n",
    "            self.add_new_user(user_id)\n",
    "        return self._reputation[user_id]\n",
    "    \n",
    "    def _normalize(self, dic):\n",
    "        sc = sum(dic.values())\n",
    "        for i in dic.keys():\n",
    "            dic[i] /= sc\n",
    "        \n",
    "    def add_new_user(self, user_id):\n",
    "        # TODO: ask if other existing users know this user\n",
    "        # -> Use that information to calculate the reputation of the new user\n",
    "        \n",
    "        # else: Algorithm for generating prior reputation\n",
    "        # Should we have an algorithm to incentivize first commers in term of reputation?\n",
    "        for i in self._reputation:\n",
    "            self._reputation[i] -= 1.0 / len(self._reputation)\n",
    "        # TODO: formalize the function to favour first commers\n",
    "        self._reputation[user_id] = -0.1 / (len(self._reputation)+4)\n",
    "        \n",
    "        for i in self._reputation:\n",
    "            self._reputation[i] += 1.0 / len(self._reputation)\n",
    "        self._normalize(self._reputation)\n",
    "        \n",
    "    def authorship(self, author_id):\n",
    "        if not author_id in self._authorship:\n",
    "            self.add_new_author(author_id)\n",
    "        return self._authorship[author_id]\n",
    "        \n",
    "    def add_new_author(self, author_id):\n",
    "        self._authorship[author_id] = np.ones([self._da]) / self._da\n",
    "    \n",
    "    def add_author(self, user_id, author_id, percentage):\n",
    "        # register the transaction\n",
    "        self._author_log.append({\n",
    "            'user_id': user_id,\n",
    "            'author_id': author_id,\n",
    "            'percentage': percentage})\n",
    "\n",
    "        # get the user reputation\n",
    "        rep = self.reputation(user_id)\n",
    "        \n",
    "        # calculate the new authorship percentage\n",
    "        # -> Bayes update using the existing likelihood function of the authorship \n",
    "        #    percentage multiplied with the reputation of the user and with the \n",
    "        #    prior authorship percentage\n",
    "        ind = int(np.floor(percentage*self._da))\n",
    "        assert percentage >= 0. and percentage <= 1.0, \"percentage value should be between [0.0, 1.0], instead percentage={}\".format(percentage)\n",
    "        if percentage == 1.0: \n",
    "            # we put it in the last box\n",
    "            ind = self._da -1\n",
    "        prior = np.mean(self.authorship(author_id) * np.arange(self._da)/self._da)\n",
    "        for i, hyp in enumerate(np.arange(self._da)/self._da):\n",
    "            likelihood = self.authorship(author_id)[i] * self.reputation(user_id) * (hyp-percentage)\n",
    "        \n",
    "        print(likelihood)"
   ]
  },
  {
   "cell_type": "markdown",
   "metadata": {},
   "source": [
    "For each author and user there is a joint probability distribution"
   ]
  },
  {
   "cell_type": "markdown",
   "metadata": {},
   "source": [
    "### Deploy the DAO and give it a target"
   ]
  },
  {
   "cell_type": "code",
   "execution_count": 9,
   "metadata": {
    "collapsed": false
   },
   "outputs": [
    {
     "data": {
      "text/plain": [
       "'http://doi.og/10.5194/wes-2015-5-RC2'"
      ]
     },
     "execution_count": 9,
     "metadata": {},
     "output_type": "execute_result"
    }
   ],
   "source": [
    "dao = DAO('10.5194/wes-2015-5-RC2', type='doi')\n",
    "dao.url"
   ]
  },
  {
   "cell_type": "code",
   "execution_count": 10,
   "metadata": {
    "collapsed": false
   },
   "outputs": [
    {
     "data": {
      "text/plain": [
       "'http://doi.og/10.5194/wes-2015-5-RC2'"
      ]
     },
     "execution_count": 10,
     "metadata": {},
     "output_type": "execute_result"
    }
   ],
   "source": [
    "dao = DAO('http://doi.og/10.5194/wes-2015-5-RC2', type='url')\n",
    "dao.url"
   ]
  },
  {
   "cell_type": "markdown",
   "metadata": {},
   "source": [
    "## Register authorship\n",
    "Any reviewer can come and give its opinion about how much an ethereum account is an author of a specific article. The DAO, will consider this as a prediction market. So for each author key, it will estimate the probability of authorship."
   ]
  },
  {
   "cell_type": "code",
   "execution_count": 11,
   "metadata": {
    "collapsed": false
   },
   "outputs": [],
   "source": [
    "from numpy.random import random\n",
    "import numpy as np"
   ]
  },
  {
   "cell_type": "code",
   "execution_count": 12,
   "metadata": {
    "collapsed": false,
    "scrolled": true
   },
   "outputs": [
    {
     "name": "stdout",
     "output_type": "stream",
     "text": [
      "0.0045\n",
      "0.0045\n",
      "0.0045\n",
      "0.0045\n",
      "0.0045\n",
      "0.0045\n",
      "0.0045\n",
      "0.0045\n",
      "0.0045\n",
      "0.0045\n"
     ]
    }
   ],
   "source": [
    "for i in range (10):\n",
    "    dao.add_author('user_%d'%(i), 'author%d'%(np.floor(random()*10)), 0.2)"
   ]
  },
  {
   "cell_type": "code",
   "execution_count": 6,
   "metadata": {
    "collapsed": false
   },
   "outputs": [
    {
     "data": {
      "text/plain": [
       "{'user_0': 0.1300443746871703,\n",
       " 'user_1': 0.10770935056933077,\n",
       " 'user_2': 0.10063659293201493,\n",
       " 'user_3': 0.09742283112839248,\n",
       " 'user_4': 0.09569326269826726,\n",
       " 'user_5': 0.09466192744919266,\n",
       " 'user_6': 0.0940023640018082,\n",
       " 'user_7': 0.09355840574856877,\n",
       " 'user_8': 0.09324763497130122,\n",
       " 'user_9': 0.09302325581395349}"
      ]
     },
     "execution_count": 6,
     "metadata": {},
     "output_type": "execute_result"
    }
   ],
   "source": [
    "dao._reputation"
   ]
  },
  {
   "cell_type": "code",
   "execution_count": 12,
   "metadata": {
    "collapsed": false,
    "scrolled": true
   },
   "outputs": [],
   "source": [
    "from plotly.offline import iplot, init_notebook_mode\n",
    "init_notebook_mode()"
   ]
  },
  {
   "cell_type": "code",
   "execution_count": 13,
   "metadata": {
    "collapsed": false
   },
   "outputs": [
    {
     "data": {
      "text/html": [
       "<div id=\"b82b8a70-5a49-4b5a-86c0-9be94fbd9a56\" style=\"height: 525; width: 100%;\" class=\"plotly-graph-div\"></div><script type=\"text/javascript\">require([\"plotly\"], function(Plotly) { window.PLOTLYENV=window.PLOTLYENV || {};window.PLOTLYENV.BASE_URL=\"https://plot.ly\";Plotly.newPlot(\"b82b8a70-5a49-4b5a-86c0-9be94fbd9a56\", [{\"y\": [0.1300443746871703, 0.10770935056933076, 0.10063659293201493, 0.09742283112839248, 0.09569326269826726, 0.09466192744919263, 0.09400236400180817, 0.09355840574856877, 0.0932476349713012, 0.09302325581395349], \"x\": [\"user_0\", \"user_1\", \"user_2\", \"user_3\", \"user_4\", \"user_5\", \"user_6\", \"user_7\", \"user_8\", \"user_9\"]}], {\"xaxis\": {\"title\": \"User names\"}, \"yaxis\": {\"title\": \"Reputation [-]\"}}, {\"linkText\": \"Export to plot.ly\", \"showLink\": true})});</script>"
      ],
      "text/plain": [
       "<IPython.core.display.HTML object>"
      ]
     },
     "metadata": {},
     "output_type": "display_data"
    }
   ],
   "source": [
    "order = np.argsort(list(dao._reputation.values()))[::-1]\n",
    "strip = lambda x: np.array(list(x))[order]\n",
    "iplot({'data':[{'x':strip(dao._reputation.keys()),\n",
    "                'y':strip(dao._reputation.values())}],\n",
    "       'layout':{'xaxis':{'title':'User names'},\n",
    "                 'yaxis':{'title':'Reputation [-]'}}})"
   ]
  },
  {
   "cell_type": "markdown",
   "metadata": {},
   "source": [
    "## Prediction market"
   ]
  },
  {
   "cell_type": "code",
   "execution_count": 4,
   "metadata": {
    "collapsed": false
   },
   "outputs": [],
   "source": [
    "import numpy as np\n",
    "from scipy.optimize import fmin_cobyla\n",
    "import pandas as pd"
   ]
  },
  {
   "cell_type": "code",
   "execution_count": 8,
   "metadata": {
    "collapsed": false
   },
   "outputs": [],
   "source": [
    "class LS_LMSRMarket(object):\n",
    "    def __init__(self, possible_outcomes, vig=0.1, init=1.0, market='LS_LMSR', b=None):\n",
    "        \"\"\"\n",
    "        Parameters\n",
    "        ----------\n",
    "        possible_outcomes:  list\n",
    "                List of strings describing the possible outcomes of the task\n",
    "                                    \n",
    "        vig     float\n",
    "                parameter of the `alpha` variable used to calculate the `b` variable.\n",
    "                Corresponds to the market \"vig\" value - typically between 5 and 30 percent in real-world markets\n",
    "                \n",
    "        init    float\n",
    "                The initial subsidies of the market, spread equally in this algorithm on all the outcomes.\n",
    "        \n",
    "        market  srt, 'LS_LMSR' | 'LMSR'\n",
    "                The market type. If 'LMSR' is selected, then a b value should be given.\n",
    "        \"\"\"\n",
    "        self.market = market\n",
    "        if self.market == 'LSMR':\n",
    "            if b == None:\n",
    "                raise Exception('b value is needed for LSMR markets')\n",
    "            self._b = b\n",
    "\n",
    "        self.possible_outcomes = possible_outcomes\n",
    "        self.init = init\n",
    "        self.vig = vig\n",
    "        self._x = [np.ones([self.n])*init/self.n]\n",
    "        self._book = []\n",
    "        self.market_value = init\n",
    "        self._history = []\n",
    "        \n",
    "    @property\n",
    "    def alpha(self):\n",
    "        return self.vig*self.n/np.log(self.n)\n",
    "        \n",
    "    @property\n",
    "    def n(self):\n",
    "        return len(self.possible_outcomes)\n",
    "        \n",
    "    @property\n",
    "    def b(self):\n",
    "        if self.market == 'LMSR':\n",
    "            return self._b\n",
    "        elif self.market == 'LS_LMSR':\n",
    "            return self._b_func(self.x)\n",
    "        else:\n",
    "            raise Exception('market must be set to either \"LMSR\" or \"LS_LMSR\"')\n",
    "    \n",
    "    def _b_func(self, x):\n",
    "        \"\"\"Calculate the `b` equation: b=\\alpha \\Sigma x\"\"\"\n",
    "        return self.alpha * x.sum()\n",
    "        \n",
    "    @property\n",
    "    def book(self):\n",
    "        return pd.DataFrame(self._book)\n",
    "    \n",
    "    @property\n",
    "    def x(self):\n",
    "        return self._x[-1].copy()\n",
    "    \n",
    "    def cost(self, x):\n",
    "        return self.b*np.log(np.exp(x/self.b).sum())\n",
    "    \n",
    "    def _new_x(self, shares, outcome):\n",
    "        new_x = self.x\n",
    "        new_x[outcome] += shares        \n",
    "        return new_x\n",
    "            \n",
    "    def price(self, shares, outcome):\n",
    "        return self._price(self._new_x(shares, outcome))\n",
    "        \n",
    "    def _price(self, x):\n",
    "        return self.cost(x)-self.cost(self.x)\n",
    "    \n",
    "    def register_x(self, x):\n",
    "        self._x.append(x)\n",
    "        \n",
    "    def calculate_shares(self, paid, outcome):\n",
    "        obj_func = lambda s: np.abs(self.price(s, outcome) - paid)\n",
    "        return fmin_cobyla(obj_func, paid/self.p[outcome], [])\n",
    "    \n",
    "    def buy_shares(self, name, paid, outcome):\n",
    "        shares = self.calculate_shares(paid, outcome)\n",
    "        self.register_x(self._new_x(shares, outcome))\n",
    "        self._book.append({'name':name, \n",
    "                           'shares':shares, \n",
    "                           'outcome':outcome, \n",
    "                           'paid':paid})\n",
    "        self._history.append(self.p)\n",
    "        self.market_value += paid\n",
    "        print(\"%s paid %2.2f EUR, for %2.2f shares of outcome %d, which will give him %2.2f EUR if he wins\"%(\n",
    "                name, paid, shares, outcome, shares/self.x[outcome]*self.market_value))\n",
    "        return shares\n",
    "    \n",
    "    def sell_shares(self, name, shares, outcome):\n",
    "        price = self.price(-share, outcome)\n",
    "        self._book.append({'name':name, \n",
    "                           'shares':-shares, \n",
    "                           'outcome':outcome, \n",
    "                           'paid':-price}) \n",
    "        self.market_value -= price        \n",
    "        self._history.append(self.p)        \n",
    "        return price\n",
    "\n",
    "    def outcome_probability(self):\n",
    "        K = np.exp(self.x/self.b)\n",
    "        return K/K.sum()\n",
    "    \n",
    "    def add_outcome(self, new_outcome):\n",
    "        new_x = self.x - np.ones([self.n])*self.init/self.n\n",
    "        new_x = np.array(new_x.tolist() + [0.])\n",
    "        new_x += np.ones([self.n + 1]) * self.init/(self.n + 1)\n",
    "        self.register_x(new_x)\n",
    "        self.possible_outcomes.append(new_outcome)\n",
    "\n",
    "    \n",
    "    @property\n",
    "    def p(self):\n",
    "        return self.outcome_probability()\n",
    "    \n",
    "    def history(self):\n",
    "        return np.array(self._history)"
   ]
  },
  {
   "cell_type": "code",
   "execution_count": 9,
   "metadata": {
    "collapsed": false
   },
   "outputs": [],
   "source": [
    "ls = LS_LMSRMarket(['author1'])"
   ]
  },
  {
   "cell_type": "code",
   "execution_count": 10,
   "metadata": {
    "collapsed": false
   },
   "outputs": [
    {
     "data": {
      "text/plain": [
       "array([ 1.])"
      ]
     },
     "execution_count": 10,
     "metadata": {},
     "output_type": "execute_result"
    }
   ],
   "source": [
    "ls.p"
   ]
  },
  {
   "cell_type": "code",
   "execution_count": null,
   "metadata": {
    "collapsed": false
   },
   "outputs": [],
   "source": [
    "ls.buy_shares('bob', 10, 0)"
   ]
  },
  {
   "cell_type": "code",
   "execution_count": null,
   "metadata": {
    "collapsed": true
   },
   "outputs": [],
   "source": [
    "ls.p"
   ]
  },
  {
   "cell_type": "code",
   "execution_count": 107,
   "metadata": {
    "collapsed": false,
    "scrolled": true
   },
   "outputs": [],
   "source": [
    "ls.add_outcome('author2', )"
   ]
  },
  {
   "cell_type": "code",
   "execution_count": 108,
   "metadata": {
    "collapsed": false
   },
   "outputs": [
    {
     "data": {
      "text/plain": [
       "1.0"
      ]
     },
     "execution_count": 108,
     "metadata": {},
     "output_type": "execute_result"
    }
   ],
   "source": [
    "ls.init"
   ]
  },
  {
   "cell_type": "code",
   "execution_count": 109,
   "metadata": {
    "collapsed": false
   },
   "outputs": [
    {
     "data": {
      "text/plain": [
       "array([ 0.33333333,  0.33333333,  0.33333333])"
      ]
     },
     "execution_count": 109,
     "metadata": {},
     "output_type": "execute_result"
    }
   ],
   "source": [
    "ls.p"
   ]
  },
  {
   "cell_type": "code",
   "execution_count": 110,
   "metadata": {
    "collapsed": false
   },
   "outputs": [
    {
     "data": {
      "text/plain": [
       "array([ 0.33333333,  0.33333333,  0.33333333])"
      ]
     },
     "execution_count": 110,
     "metadata": {},
     "output_type": "execute_result"
    }
   ],
   "source": [
    "ls.x"
   ]
  }
 ],
 "metadata": {
  "kernelspec": {
   "display_name": "Python 3",
   "language": "python",
   "name": "python3"
  },
  "language_info": {
   "codemirror_mode": {
    "name": "ipython",
    "version": 3
   },
   "file_extension": ".py",
   "mimetype": "text/x-python",
   "name": "python",
   "nbconvert_exporter": "python",
   "pygments_lexer": "ipython3",
   "version": "3.5.1"
  }
 },
 "nbformat": 4,
 "nbformat_minor": 0
}
